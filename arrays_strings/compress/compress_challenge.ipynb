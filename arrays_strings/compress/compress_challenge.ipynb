{
 "cells": [
  {
   "cell_type": "markdown",
   "metadata": {},
   "source": [
    "This notebook was prepared by [Donne Martin](http://donnemartin.com). Source and license info is on [GitHub](https://github.com/donnemartin/interactive-coding-challenges)."
   ]
  },
  {
   "cell_type": "markdown",
   "metadata": {},
   "source": [
    "# Challenge Notebook"
   ]
  },
  {
   "cell_type": "markdown",
   "metadata": {},
   "source": [
    "## Problem: Compress a string such that 'AAABCCDDDD' becomes 'A3BC2D4'.  Only compress the string if it saves space.\n",
    "\n",
    "* [Constraints](#Constraints)\n",
    "* [Test Cases](#Test-Cases)\n",
    "* [Algorithm](#Algorithm)\n",
    "* [Code](#Code)\n",
    "* [Unit Test](#Unit-Test)\n",
    "* [Solution Notebook](#Solution-Notebook)"
   ]
  },
  {
   "cell_type": "markdown",
   "metadata": {},
   "source": [
    "## Constraints\n",
    "\n",
    "* Can we assume the string is ASCII?\n",
    "    * Yes\n",
    "    * Note: Unicode strings could require special handling depending on your language\n",
    "* Is this case sensitive?\n",
    "    * Yes\n",
    "* Can we use additional data structures?  \n",
    "    * Yes\n",
    "* Can we assume this fits in memory?\n",
    "    * Yes"
   ]
  },
  {
   "cell_type": "markdown",
   "metadata": {},
   "source": [
    "## Test Cases\n",
    "\n",
    "* None -> None\n",
    "* '' -> ''\n",
    "* 'AABBCC' -> 'AABBCC'\n",
    "* 'AAABCCDDDD' -> 'A3BC2D4'"
   ]
  },
  {
   "cell_type": "markdown",
   "metadata": {},
   "source": [
    "## Algorithm\n",
    "\n",
    "Refer to the [Solution Notebook](http://nbviewer.ipython.org/github/donnemartin/interactive-coding-challenges/blob/master/arrays_strings/compress/compress_solution.ipynb).  If you are stuck and need a hint, the solution notebook's algorithm discussion might be a good place to start."
   ]
  },
  {
   "cell_type": "markdown",
   "metadata": {},
   "source": [
    "## Code"
   ]
  },
  {
   "cell_type": "code",
   "execution_count": 25,
   "metadata": {},
   "outputs": [],
   "source": [
    "class CompressString(object):\n",
    "\n",
    "    def compress(self, string):\n",
    "        if string == None or len(string) < 3:\n",
    "            return string\n",
    "        previous_char = ''\n",
    "        compressed_string = []\n",
    "        char_count = 1\n",
    "        for char in string:\n",
    "            if char == previous_char:\n",
    "                char_count += 1\n",
    "            else:\n",
    "                if char_count > 1:\n",
    "                    compressed_string.append(str(char_count))\n",
    "                    char_count = 1\n",
    "                compressed_string.append(char)\n",
    "                previous_char = char\n",
    "            print(compressed_string)\n",
    "        if char_count > 1:\n",
    "            compressed_string.append(str(char_count))\n",
    "        if len(compressed_string) < len(string):\n",
    "            return ''.join(compressed_string)\n",
    "        else:\n",
    "            return string"
   ]
  },
  {
   "cell_type": "markdown",
   "metadata": {},
   "source": [
    "## Unit Test"
   ]
  },
  {
   "cell_type": "markdown",
   "metadata": {},
   "source": [
    "\n",
    "\n",
    "**The following unit test is expected to fail until you solve the challenge.**"
   ]
  },
  {
   "cell_type": "code",
   "execution_count": 26,
   "metadata": {},
   "outputs": [
    {
     "name": "stdout",
     "output_type": "stream",
     "text": [
      "['A']\n",
      "['A']\n",
      "['A', '2', 'B']\n",
      "['A', '2', 'B']\n",
      "['A', '2', 'B', '2', 'C']\n",
      "['A', '2', 'B', '2', 'C']\n",
      "['A']\n",
      "['A']\n",
      "['A']\n",
      "['A', '3', 'B']\n",
      "['A', '3', 'B', 'C']\n",
      "['A', '3', 'B', 'C']\n",
      "['A', '3', 'B', 'C', '2', 'D']\n",
      "['A', '3', 'B', 'C', '2', 'D']\n",
      "['A', '3', 'B', 'C', '2', 'D']\n",
      "['A', '3', 'B', 'C', '2', 'D']\n",
      "['A', '3', 'B', 'C', '2', 'D', '4', 'E']\n",
      "['B']\n",
      "['B', 'A']\n",
      "['B', 'A']\n",
      "['B', 'A']\n",
      "['B', 'A', '3', 'C']\n",
      "['B', 'A', '3', 'C']\n",
      "['B', 'A', '3', 'C', '2', 'D']\n",
      "['B', 'A', '3', 'C', '2', 'D']\n",
      "['B', 'A', '3', 'C', '2', 'D']\n",
      "['B', 'A', '3', 'C', '2', 'D']\n",
      "['A']\n",
      "['A']\n",
      "['A']\n",
      "['A', '3', 'B']\n",
      "['A', '3', 'B', 'A']\n",
      "['A', '3', 'B', 'A']\n",
      "['A', '3', 'B', 'A', '2', 'C']\n",
      "['A', '3', 'B', 'A', '2', 'C']\n",
      "['A', '3', 'B', 'A', '2', 'C', '2', 'D']\n",
      "['A', '3', 'B', 'A', '2', 'C', '2', 'D']\n",
      "['A', '3', 'B', 'A', '2', 'C', '2', 'D']\n",
      "['A', '3', 'B', 'A', '2', 'C', '2', 'D']\n",
      "Success: test_compress\n"
     ]
    }
   ],
   "source": [
    "# %load test_compress.py\n",
    "import unittest\n",
    "\n",
    "\n",
    "class TestCompress(unittest.TestCase):\n",
    "\n",
    "    def test_compress(self, func):\n",
    "        self.assertEqual(func(None), None)\n",
    "        self.assertEqual(func(''), '')\n",
    "        self.assertEqual(func('AABBCC'), 'AABBCC')\n",
    "        self.assertEqual(func('AAABCCDDDDE'), 'A3BC2D4E')\n",
    "        self.assertEqual(func('BAAACCDDDD'), 'BA3C2D4')\n",
    "        self.assertEqual(func('AAABAACCDDDD'), 'A3BA2C2D4')\n",
    "        print('Success: test_compress')\n",
    "\n",
    "\n",
    "def main():\n",
    "    test = TestCompress()\n",
    "    compress_string = CompressString()\n",
    "    test.test_compress(compress_string.compress)\n",
    "\n",
    "\n",
    "if __name__ == '__main__':\n",
    "    main()"
   ]
  },
  {
   "cell_type": "markdown",
   "metadata": {},
   "source": [
    "## Solution Notebook\n",
    "\n",
    "Review the [Solution Notebook](http://nbviewer.ipython.org/github/donnemartin/interactive-coding-challenges/blob/master/arrays_strings/compress/compress_solution.ipynb) for a discussion on algorithms and code solutions."
   ]
  }
 ],
 "metadata": {
  "kernelspec": {
   "display_name": "Python 3 (ipykernel)",
   "language": "python",
   "name": "python3"
  },
  "language_info": {
   "codemirror_mode": {
    "name": "ipython",
    "version": 3
   },
   "file_extension": ".py",
   "mimetype": "text/x-python",
   "name": "python",
   "nbconvert_exporter": "python",
   "pygments_lexer": "ipython3",
   "version": "3.10.6"
  }
 },
 "nbformat": 4,
 "nbformat_minor": 1
}
